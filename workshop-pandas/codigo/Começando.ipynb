{
 "cells": [
  {
   "attachments": {},
   "cell_type": "markdown",
   "metadata": {},
   "source": [
    "# Workshop Pandas"
   ]
  },
  {
   "cell_type": "code",
   "execution_count": 8,
   "metadata": {},
   "outputs": [
    {
     "name": "stdout",
     "output_type": "stream",
     "text": [
      "int32\n",
      "float64\n"
     ]
    }
   ],
   "source": [
    "from numpy import array\n",
    "\n",
    "numpyArray = array([1, 2, 3])\n",
    "newNumArray = numpyArray * 0.5\n",
    "print(numpyArray.dtype)\n",
    "print(newNumArray.dtype)"
   ]
  },
  {
   "cell_type": "code",
   "execution_count": null,
   "metadata": {},
   "outputs": [],
   "source": [
    "lista = [1, 2, 3]\n",
    "novaLista = lista * 2\n",
    "print(novaLista)"
   ]
  },
  {
   "cell_type": "code",
   "execution_count": 11,
   "metadata": {},
   "outputs": [
    {
     "data": {
      "text/html": [
       "<div>\n",
       "<style scoped>\n",
       "    .dataframe tbody tr th:only-of-type {\n",
       "        vertical-align: middle;\n",
       "    }\n",
       "\n",
       "    .dataframe tbody tr th {\n",
       "        vertical-align: top;\n",
       "    }\n",
       "\n",
       "    .dataframe thead th {\n",
       "        text-align: right;\n",
       "    }\n",
       "</style>\n",
       "<table border=\"1\" class=\"dataframe\">\n",
       "  <thead>\n",
       "    <tr style=\"text-align: right;\">\n",
       "      <th></th>\n",
       "      <th>ID Cliente;Primeiro Nome;Sobrenome;E-mail;Genero;Numero de Filhos;Data de Nascimento;;;;</th>\n",
       "    </tr>\n",
       "  </thead>\n",
       "  <tbody>\n",
       "    <tr>\n",
       "      <th>0</th>\n",
       "      <td>1;Garnet;Lanfranchi;glanfranchi0@mayoclinic.co...</td>\n",
       "    </tr>\n",
       "    <tr>\n",
       "      <th>1</th>\n",
       "      <td>2;Lurette;Roseblade;lroseblade1@bigcartel.com;...</td>\n",
       "    </tr>\n",
       "    <tr>\n",
       "      <th>2</th>\n",
       "      <td>3;Glenden;Ishchenko;gishchenko2@moonfruit.com;...</td>\n",
       "    </tr>\n",
       "    <tr>\n",
       "      <th>3</th>\n",
       "      <td>4;Baron;Jedrzejewsky;bjedrzejewsky3@e-recht24....</td>\n",
       "    </tr>\n",
       "    <tr>\n",
       "      <th>4</th>\n",
       "      <td>5;Sheree;Bredbury;sbredbury4@sitemeter.com;Fem...</td>\n",
       "    </tr>\n",
       "    <tr>\n",
       "      <th>...</th>\n",
       "      <td>...</td>\n",
       "    </tr>\n",
       "    <tr>\n",
       "      <th>39499</th>\n",
       "      <td>39500;Brandy;Malhotra;brandy0@adventure-works....</td>\n",
       "    </tr>\n",
       "    <tr>\n",
       "      <th>39500</th>\n",
       "      <td>39501;Alicia;Raje;alicia12@adventure-works.com...</td>\n",
       "    </tr>\n",
       "    <tr>\n",
       "      <th>39501</th>\n",
       "      <td>39502;Connie;Rai;connie4@adventure-works.com;F...</td>\n",
       "    </tr>\n",
       "    <tr>\n",
       "      <th>39502</th>\n",
       "      <td>39503;Shawn;Raji;shawn23@adventure-works.com;M...</td>\n",
       "    </tr>\n",
       "    <tr>\n",
       "      <th>39503</th>\n",
       "      <td>39504;Lindsey;Sharma;lindsey10@adventure-works...</td>\n",
       "    </tr>\n",
       "  </tbody>\n",
       "</table>\n",
       "<p>39504 rows × 1 columns</p>\n",
       "</div>"
      ],
      "text/plain": [
       "      ID Cliente;Primeiro Nome;Sobrenome;E-mail;Genero;Numero de Filhos;Data de Nascimento;;;;\n",
       "0      1;Garnet;Lanfranchi;glanfranchi0@mayoclinic.co...                                      \n",
       "1      2;Lurette;Roseblade;lroseblade1@bigcartel.com;...                                      \n",
       "2      3;Glenden;Ishchenko;gishchenko2@moonfruit.com;...                                      \n",
       "3      4;Baron;Jedrzejewsky;bjedrzejewsky3@e-recht24....                                      \n",
       "4      5;Sheree;Bredbury;sbredbury4@sitemeter.com;Fem...                                      \n",
       "...                                                  ...                                      \n",
       "39499  39500;Brandy;Malhotra;brandy0@adventure-works....                                      \n",
       "39500  39501;Alicia;Raje;alicia12@adventure-works.com...                                      \n",
       "39501  39502;Connie;Rai;connie4@adventure-works.com;F...                                      \n",
       "39502  39503;Shawn;Raji;shawn23@adventure-works.com;M...                                      \n",
       "39503  39504;Lindsey;Sharma;lindsey10@adventure-works...                                      \n",
       "\n",
       "[39504 rows x 1 columns]"
      ]
     },
     "execution_count": 11,
     "metadata": {},
     "output_type": "execute_result"
    }
   ],
   "source": [
    "import pandas as pd\n",
    "\n",
    "cliente = pd.read_csv(\"db/Contoso - Clientes.csv\")\n",
    "cliente.head(3)\n"
   ]
  }
 ],
 "metadata": {
  "kernelspec": {
   "display_name": "workshop-pandas-YdTybUPI-py3.11",
   "language": "python",
   "name": "python3"
  },
  "language_info": {
   "codemirror_mode": {
    "name": "ipython",
    "version": 3
   },
   "file_extension": ".py",
   "mimetype": "text/x-python",
   "name": "python",
   "nbconvert_exporter": "python",
   "pygments_lexer": "ipython3",
   "version": "3.10.4"
  },
  "orig_nbformat": 4
 },
 "nbformat": 4,
 "nbformat_minor": 2
}
